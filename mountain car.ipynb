{
 "cells": [
  {
   "cell_type": "code",
   "execution_count": 269,
   "metadata": {},
   "outputs": [],
   "source": [
    "\n",
    "import numpy as np\n",
    "import pandas as pd\n",
    "from tqdm import tqdm\n",
    "\n",
    "import matplotlib.pyplot as plt\n",
    "import seaborn as sns\n",
    "import math\n",
    "\n",
    "import gym\n",
    "from frozen_lake_utils import *\n",
    "\n",
    "import warnings\n",
    "warnings.filterwarnings('ignore')\n",
    "from time import time"
   ]
  },
  {
   "cell_type": "code",
   "execution_count": 31,
   "metadata": {},
   "outputs": [],
   "source": [
    "env = gym.make('MountainCar-v0')"
   ]
  },
  {
   "cell_type": "code",
   "execution_count": 338,
   "metadata": {},
   "outputs": [
    {
     "data": {
      "text/plain": [
       "array([0.6 , 0.07], dtype=float32)"
      ]
     },
     "execution_count": 338,
     "metadata": {},
     "output_type": "execute_result"
    }
   ],
   "source": [
    "env.high"
   ]
  },
  {
   "cell_type": "code",
   "execution_count": 340,
   "metadata": {},
   "outputs": [
    {
     "data": {
      "text/plain": [
       "array([-0.07, -0.05, -0.04, -0.02, -0.01,  0.01,  0.02,  0.04,  0.05,\n",
       "        0.07])"
      ]
     },
     "execution_count": 340,
     "metadata": {},
     "output_type": "execute_result"
    }
   ],
   "source": [
    "v"
   ]
  },
  {
   "cell_type": "code",
   "execution_count": 339,
   "metadata": {},
   "outputs": [
    {
     "data": {
      "text/plain": [
       "array([-1.2, -1. , -0.8, -0.6, -0.4, -0.2,  0. ,  0.2,  0.4,  0.6])"
      ]
     },
     "execution_count": 339,
     "metadata": {},
     "output_type": "execute_result"
    }
   ],
   "source": [
    "p"
   ]
  },
  {
   "cell_type": "code",
   "execution_count": 174,
   "metadata": {},
   "outputs": [],
   "source": [
    "def id_to_state(idx,p,v,size=10):\n",
    "    p_id = idx//size\n",
    "    v_id = idx%size\n",
    "    return [p[p_id],v[v_id]]\n",
    "\n",
    "def state_to_index(env, state, p, v, state_size):\n",
    "    position, velocity = state\n",
    "\n",
    "    idx1 = np.searchsorted(p, position)\n",
    "    idx2 = np.searchsorted(v, velocity)\n",
    "    \n",
    "    return idx1*state_size + idx2\n",
    "\n",
    "\n",
    "def (state_size=20):\n",
    "    env = gym.make('MountainCar-v0')\n",
    "\n",
    "    nA = env.action_space.n\n",
    "    nS = state_size**2\n",
    "\n",
    "    minimum_states_value = env.low\n",
    "    maximum_states_value = env.high\n",
    "\n",
    "    position_states = np.linspace(minimum_states_value[0], maximum_states_value[0], state_size).round(decimals=2)\n",
    "    velocity_states = np.linspace(minimum_states_value[1], maximum_states_value[1], state_size).round(decimals=2)\n",
    "\n",
    "\n",
    "    P = {s: {a: [] for a in range(nA)} for s in range(nS)}\n",
    "    for i in range(state_size):\n",
    "        for j in range(state_size):\n",
    "            for action in range(nA):\n",
    "                # 2D to 1D\n",
    "                state = to_s(i, j, state_size)\n",
    "\n",
    "                position, velocity = position_states[i], velocity_states[j]\n",
    "                velocity += (action - 1) * env.force + math.cos(3 * position) * (-env.gravity)\n",
    "                velocity = np.clip(velocity, -env.max_speed, env.max_speed)\n",
    "                new_velocity = np.argmin([np.abs(x-velocity) for x in velocity_states])\n",
    "\n",
    "                position += velocity\n",
    "                position = np.clip(position, env.min_position, env.max_position)\n",
    "                new_position = np.argmin([np.abs(x-position) for x in position_states])\n",
    "\n",
    "                reward = np.abs(0.01*(velocity/env.max_speed))\n",
    "                done = False\n",
    "\n",
    "                if position >= env.goal_position:\n",
    "                    reward = 1\n",
    "                    done = True\n",
    "                P[state][action].append((1, to_s(new_position, new_velocity, state_size), reward, done))\n",
    "\n",
    "    env.nA = nA\n",
    "    env.nS = nS\n",
    "    env.P = P\n",
    "    return env, position_states, velocity_states"
   ]
  },
  {
   "cell_type": "code",
   "execution_count": 326,
   "metadata": {},
   "outputs": [],
   "source": [
    "def plot_deltas_time(deltas, times, problem=\"Frozen Lake\"):\n",
    "\n",
    "    fig, ax = plt.subplots(1, 2, figsize=(18,5))\n",
    "    ax[0].set_title(\"Delta V \"+problem)\n",
    "    ax[0].set_ylabel('delta V')\n",
    "    ax[0].set_xlabel('iteration')\n",
    "    ax[0].plot(np.arange(len(deltas)), deltas)\n",
    "    ax[1].set_title(\"Computational Time \"+problem)\n",
    "    ax[1].set_ylabel('time')\n",
    "    ax[1].set_xlabel('iteration')\n",
    "    ax[1].plot(np.arange(len(times)), times)\n",
    "    plt.show()\n",
    "        \n",
    "def plot_scores_time(scores, times, problem=\"Frozen Lake\"):\n",
    "\n",
    "    fig, ax = plt.subplots(1, 2, figsize=(18,5))\n",
    "    ax[0].set_title(\"Episode scores \"+problem)\n",
    "    ax[0].set_ylabel('score')\n",
    "    ax[0].set_xlabel('episode')\n",
    "    ax[0].plot(np.arange(len(scores)), scores)\n",
    "    ax[1].set_title(\"Computational Time \"+problem)\n",
    "    ax[1].set_ylabel('time')\n",
    "    ax[1].set_xlabel('episode')\n",
    "    ax[1].plot(np.arange(len(times)), times)\n",
    "    plt.show()\n",
    "    \n",
    "def plot_val_grid(env, V, problem='Mountain car'):\n",
    "    actions_state = np.zeros((10,10))\n",
    "    for i in range(100):\n",
    "        actions_state[i//10,i%10] = np.argmax(V[i])\n",
    "    fig, ax = plt.subplots(1, 1, figsize=(18,9))\n",
    "    ax.set_title(\"Action grid \"+problem)\n",
    "    sns.heatmap(actions_state, annot=False, fmt='.2f', linewidths=.4, cmap=\"YlGnBu\")\n",
    "    plt.show()\n",
    "\n",
    "        \n",
    "def plot_policy_map(policy, V, rows, columns, problem='Frozen Lake'):\n",
    "\n",
    "    policy_labels = np.empty([rows, columns], dtype='<U32')\n",
    "    for row in range(rows):\n",
    "        for col in range(columns):\n",
    "            state = row * columns + col\n",
    "            policy_labels[row, col] += 'L' * (policy[state] == 0)\n",
    "            policy_labels[row, col] += 'D' * (policy[state] == 1)\n",
    "            policy_labels[row, col] += 'R' * (policy[state] == 2)\n",
    "            policy_labels[row, col] += 'U' * (policy[state] == 3)\n",
    "\n",
    "    fig, ax = plt.subplots(1, 1, figsize=(18,9))\n",
    "    ax.set_title(\"Best action grid \"+problem)\n",
    "    sns.heatmap(V.reshape(rows, columns), annot=policy_labels, fmt='', linewidths=.4, cmap=\"YlGnBu\")\n",
    "    plt.show()\n",
    "\n",
    "    \n",
    "def get_actions(env, gamma, state, v):\n",
    "    A = np.zeros(env.nA)\n",
    "    for action in range(env.nA):\n",
    "        for p, next_state, reward, done in env.P[state][action]:\n",
    "            A[action] += p * (reward + gamma * v[next_state])\n",
    "    return A\n",
    "\n",
    "def value_iteration(env, discount=0.99, max_iterations=1000, threshold_delta=1e-03, problem='Mountain car Value Iteration'):\n",
    "    \n",
    "    V = np.zeros(env.nS)\n",
    "    deltas = []\n",
    "    times = []\n",
    "\n",
    "    start_it_time = time()\n",
    "    for _ in range(max_iterations):\n",
    "        delta = 0\n",
    "        reward = 0\n",
    "    \n",
    "        for state in range(env.nS):\n",
    "            previous_V = V[state]\n",
    "            A = get_actions(env, discount, state, V)\n",
    "\n",
    "            # Value Iteration: update state value using the Bellman optimality equation\n",
    "            best_action_value = np.max(A)\n",
    "            V[state] = best_action_value\n",
    "\n",
    "            # threshold is the highest delta so far\n",
    "            delta = max(delta, np.abs(best_action_value - previous_V))\n",
    "\n",
    "            # Best action\n",
    "            best_action = np.argmax(V)\n",
    "\n",
    "            reward += best_action_value\n",
    "\n",
    "        deltas.append(delta)\n",
    "        times.append(time()-start_it_time)\n",
    "        \n",
    "        if delta < threshold_delta:\n",
    "            break;\n",
    "    print('took %s iteration to converge'%(str(_)))\n",
    "    optimal_policy  = np.zeros((env.nS, env.nA))\n",
    "    optimal_actions  = np.zeros(env.nS).astype(int)\n",
    "    \n",
    "    for state in range(env.nS):\n",
    "        A = get_actions(env, discount, state, V)\n",
    "        best_action = np.argmax(A)\n",
    "\n",
    "        optimal_policy[state, best_action] = 1.0\n",
    "        optimal_actions[state] = best_action\n",
    "        \n",
    "    plot_val_grid(env, optimal_policy, problem)\n",
    "    plot_deltas_time(deltas, times, problem)\n",
    "\n",
    "    return V, optimal_policy\n",
    "\n",
    "def policy_iteration(env, discount_factor=0.995, max_iterations_hl=10, max_iterations_ll=1000,threshold_delta = 1e-3, problem = 'Mountain car'):\n",
    "    iteration = 0\n",
    "    continue_improve = True\n",
    "    \n",
    "    V = np.zeros(env.nS)\n",
    "    policy = np.ones([env.nS, env.nA]) / env.nA \n",
    "    policy_actions = np.zeros(env.nS).astype(int)\n",
    "\n",
    "    final_deltas = []\n",
    "    final_times = []\n",
    "    start_time = time()\n",
    "\n",
    "    while iteration <= max_iterations_hl and continue_improve:\n",
    "        deltas = []\n",
    "        times = []\n",
    "        for _ in tqdm(range(max_iterations_ll)):\n",
    "            delta = 0\n",
    "            reward = 0\n",
    "            for state in range(env.nS):\n",
    "                previous_V = V[state]\n",
    "\n",
    "                # Update V\n",
    "                Q_current_state = get_actions(env, discount_factor, state, V)\n",
    "                V[state] = 0.\n",
    "                for action in range(env.nA):\n",
    "                    V[state] += policy[state, action] * Q_current_state[action]\n",
    "\n",
    "                delta = max(delta, np.abs(V[state] - previous_V))\n",
    "\n",
    "                reward += np.max(Q_current_state)\n",
    "\n",
    "            deltas.append(delta)\n",
    "            times.append(time() - start_time)\n",
    "\n",
    "\n",
    "            if delta < threshold_delta:\n",
    "                break;\n",
    "\n",
    "        continue_improve = False\n",
    "\n",
    "        for state in range(env.nS):\n",
    "            # New best action\n",
    "            previous_best_action = np.argmax(policy[state])\n",
    "            Q_current_state = get_actions(env, discount_factor, state, V)\n",
    "            new_best_action = np.argmax(Q_current_state.round(decimals=4))\n",
    "\n",
    "            # If policy has improved\n",
    "            if previous_best_action != new_best_action:\n",
    "                continue_improve = True\n",
    "\n",
    "            # New policies\n",
    "            policy[state] = np.eye(env.nA)[new_best_action]\n",
    "            policy_actions[state] = new_best_action\n",
    "\n",
    "        final_deltas += deltas\n",
    "        final_times += times\n",
    "        iteration += 1\n",
    "\n",
    "    print('took %s iteration to converge'%(len(final_times)))\n",
    "    plot_deltas_time(final_deltas, final_times, problem)\n",
    "    plot_val_grid(env, policy, problem)\n",
    "\n",
    "\n",
    "    return V, policy\n",
    "\n",
    "def QLearning(env, learning, discount, epsilon, min_eps, episodes):\n",
    "    # Determine size of discretized state space\n",
    "    num_states = (env.observation_space.high - env.observation_space.low)*\\\n",
    "                    np.array([10, 100])\n",
    "    num_states = np.round(num_states, 0).astype(int) + 1\n",
    "    \n",
    "    # Initialize Q table\n",
    "    Q = np.random.uniform(low = -1, high = 1, \n",
    "                          size = (num_states[0], num_states[1], \n",
    "                                  env.action_space.n))\n",
    "    \n",
    "    # Initialize variables to track rewards\n",
    "    reward_list = []\n",
    "    ave_reward_list = []\n",
    "    \n",
    "    # Calculate episodic reduction in epsilon\n",
    "    reduction = (epsilon - min_eps)/episodes\n",
    "    \n",
    "    # Run Q learning algorithm\n",
    "    for i in range(episodes):\n",
    "        # Initialize parameters\n",
    "        done = False\n",
    "        tot_reward, reward = 0,0\n",
    "        state = env.reset()\n",
    "        \n",
    "        # Discretize state\n",
    "        state_adj = (state - env.observation_space.low)*np.array([10, 100])\n",
    "        state_adj = np.round(state_adj, 0).astype(int)\n",
    "    \n",
    "        while done != True:   \n",
    "            # Render environment for last five episodes\n",
    "            if i >= (episodes - 20):\n",
    "                env.render()\n",
    "                \n",
    "            # Determine next action - epsilon greedy strategy\n",
    "            if np.random.random() < 1 - epsilon:\n",
    "                action = np.argmax(Q[state_adj[0], state_adj[1]]) \n",
    "            else:\n",
    "                action = np.random.randint(0, env.action_space.n)\n",
    "                \n",
    "            # Get next state and reward\n",
    "            state2, reward, done, info = env.step(action) \n",
    "            \n",
    "            # Discretize state2\n",
    "            state2_adj = (state2 - env.observation_space.low)*np.array([10, 100])\n",
    "            state2_adj = np.round(state2_adj, 0).astype(int)\n",
    "            \n",
    "            #Allow for terminal states\n",
    "            if done and state2[0] >= 0.5:\n",
    "                Q[state_adj[0], state_adj[1], action] = reward\n",
    "                \n",
    "            # Adjust Q value for current state\n",
    "            else:\n",
    "                delta = learning*(reward + \n",
    "                                 discount*np.max(Q[state2_adj[0], \n",
    "                                                   state2_adj[1]]) - \n",
    "                                 Q[state_adj[0], state_adj[1],action])\n",
    "                Q[state_adj[0], state_adj[1],action] += delta\n",
    "                                     \n",
    "            # Update variables\n",
    "            tot_reward += reward\n",
    "            state_adj = state2_adj\n",
    "        \n",
    "        # Decay epsilon\n",
    "        if epsilon > min_eps:\n",
    "            epsilon -= reduction\n",
    "        \n",
    "        # Track rewards\n",
    "        reward_list.append(tot_reward)\n",
    "        \n",
    "        if (i+1) % 100 == 0:\n",
    "            ave_reward = np.mean(reward_list)\n",
    "            ave_reward_list.append(ave_reward)\n",
    "            reward_list = []\n",
    "            \n",
    "        if (i+1) % 100 == 0:    \n",
    "            print('Episode {} Average Reward: {}'.format(i+1, ave_reward))\n",
    "            \n",
    "    env.close()\n",
    "    \n",
    "    return ave_reward_list\n"
   ]
  },
  {
   "cell_type": "code",
   "execution_count": 256,
   "metadata": {},
   "outputs": [],
   "source": [
    "env, p, v = disc_env(10)"
   ]
  },
  {
   "cell_type": "code",
   "execution_count": 325,
   "metadata": {
    "scrolled": true
   },
   "outputs": [
    {
     "name": "stdout",
     "output_type": "stream",
     "text": [
      "took 2062 iteration to converge\n",
      "(100, 3)\n"
     ]
    },
    {
     "data": {
      "image/png": "[encoded data removed]",
      "text/plain": [
       "<Figure size 1296x648 with 2 Axes>"
      ]
     },
     "metadata": {
      "needs_background": "light"
     },
     "output_type": "display_data"
    },
    {
     "data": {
      "image/png": "[encoded data removed]",
      "text/plain": [
       "<Figure size 1296x360 with 2 Axes>"
      ]
     },
     "metadata": {
      "needs_background": "light"
     },
     "output_type": "display_data"
    }
   ],
   "source": [
    "V ,policy = value_iteration(env, threshold_delta=1e-9, max_iterations= 5000)"
   ]
  },
  {
   "cell_type": "code",
   "execution_count": 327,
   "metadata": {},
   "outputs": [
    {
     "name": "stderr",
     "output_type": "stream",
     "text": [
      " 83%|████████▎ | 4135/5000 [00:05<00:01, 700.13it/s]\n",
      " 47%|████▋     | 2368/5000 [00:03<00:03, 723.02it/s]\n"
     ]
    },
    {
     "name": "stdout",
     "output_type": "stream",
     "text": [
      "took 6505 iteration to converge\n"
     ]
    },
    {
     "data": {
      "image/png": "[encoded data removed]",
      "text/plain": [
       "<Figure size 1296x360 with 2 Axes>"
      ]
     },
     "metadata": {
      "needs_background": "light"
     },
     "output_type": "display_data"
    },
    {
     "data": {
      "image/png": "[encoded data removed]",
      "text/plain": [
       "<Figure size 1296x648 with 2 Axes>"
      ]
     },
     "metadata": {
      "needs_background": "light"
     },
     "output_type": "display_data"
    }
   ],
   "source": [
    "V ,policy_pi = policy_iteration(env, threshold_delta=1e-9, max_iterations_ll=5000, max_iterations_hl=1000)"
   ]
  },
  {
   "cell_type": "code",
   "execution_count": 285,
   "metadata": {},
   "outputs": [],
   "source": [
    "def play(runs=100, policy=None):\n",
    "    winrate = 0\n",
    "    for _ in range(runs):\n",
    "        env.reset()\n",
    "        action = np.argmax(policy[state_to_index(env, env.reset(), position_states, velocity_states, state_size)])\n",
    "        for i in range(200):\n",
    "            state,r,done,_ = env.step(action)\n",
    "            if done and i!=199:\n",
    "                winrate +=1\n",
    "                break\n",
    "            action = np.argmax(policy[state_to_index(env, state, position_states, velocity_states, state_size)])\n",
    "    print('winrate percentage %s'%(winrate/runs))"
   ]
  },
  {
   "cell_type": "code",
   "execution_count": 286,
   "metadata": {},
   "outputs": [
    {
     "name": "stdout",
     "output_type": "stream",
     "text": [
      "winrate percentage 0.55\n"
     ]
    }
   ],
   "source": [
    "play(policy=policy)"
   ]
  },
  {
   "cell_type": "code",
   "execution_count": 295,
   "metadata": {},
   "outputs": [
    {
     "name": "stdout",
     "output_type": "stream",
     "text": [
      "winrate percentage 0.45\n"
     ]
    }
   ],
   "source": [
    "play(policy=policy_pi)"
   ]
  },
  {
   "cell_type": "code",
   "execution_count": 341,
   "metadata": {},
   "outputs": [
    {
     "name": "stdout",
     "output_type": "stream",
     "text": [
      "Episode 100 Average Reward: -200.0\n",
      "Episode 200 Average Reward: -200.0\n",
      "Episode 300 Average Reward: -200.0\n",
      "Episode 400 Average Reward: -200.0\n",
      "Episode 500 Average Reward: -200.0\n",
      "Episode 600 Average Reward: -200.0\n",
      "Episode 700 Average Reward: -200.0\n",
      "Episode 800 Average Reward: -200.0\n",
      "Episode 900 Average Reward: -200.0\n",
      "Episode 1000 Average Reward: -200.0\n",
      "Episode 1100 Average Reward: -200.0\n",
      "Episode 1200 Average Reward: -200.0\n",
      "Episode 1300 Average Reward: -200.0\n",
      "Episode 1400 Average Reward: -200.0\n",
      "Episode 1500 Average Reward: -200.0\n",
      "Episode 1600 Average Reward: -200.0\n",
      "Episode 1700 Average Reward: -200.0\n",
      "Episode 1800 Average Reward: -200.0\n",
      "Episode 1900 Average Reward: -200.0\n",
      "Episode 2000 Average Reward: -200.0\n",
      "Episode 2100 Average Reward: -200.0\n",
      "Episode 2200 Average Reward: -200.0\n",
      "Episode 2300 Average Reward: -200.0\n",
      "Episode 2400 Average Reward: -200.0\n",
      "Episode 2500 Average Reward: -200.0\n",
      "Episode 2600 Average Reward: -200.0\n",
      "Episode 2700 Average Reward: -200.0\n",
      "Episode 2800 Average Reward: -200.0\n",
      "Episode 2900 Average Reward: -200.0\n",
      "Episode 3000 Average Reward: -199.97\n",
      "Episode 3100 Average Reward: -200.0\n",
      "Episode 3200 Average Reward: -197.81\n",
      "Episode 3300 Average Reward: -198.22\n",
      "Episode 3400 Average Reward: -200.0\n",
      "Episode 3500 Average Reward: -199.9\n",
      "Episode 3600 Average Reward: -196.0\n",
      "Episode 3700 Average Reward: -199.52\n",
      "Episode 3800 Average Reward: -198.49\n",
      "Episode 3900 Average Reward: -197.22\n",
      "Episode 4000 Average Reward: -198.47\n",
      "Episode 4100 Average Reward: -193.04\n",
      "Episode 4200 Average Reward: -193.86\n",
      "Episode 4300 Average Reward: -194.04\n",
      "Episode 4400 Average Reward: -191.03\n",
      "Episode 4500 Average Reward: -184.43\n",
      "Episode 4600 Average Reward: -195.4\n",
      "Episode 4700 Average Reward: -194.41\n",
      "Episode 4800 Average Reward: -180.25\n",
      "Episode 4900 Average Reward: -184.73\n",
      "Episode 5000 Average Reward: -175.34\n",
      "runtime: 61.44217848777771\n"
     ]
    }
   ],
   "source": [
    "start = time()\n",
    "rewards = QLearning(env, 0.2, 0.9, 0.8, 0, 5000)\n",
    "print('runtime:',time()-start)"
   ]
  },
  {
   "cell_type": "code",
   "execution_count": 336,
   "metadata": {},
   "outputs": [
    {
     "data": {
      "image/png": "[encoded data removed]",
      "text/plain": [
       "<Figure size 432x288 with 1 Axes>"
      ]
     },
     "metadata": {
      "needs_background": "light"
     },
     "output_type": "display_data"
    }
   ],
   "source": [
    "plt.plot(list(range(100,5100,100)),rewards)\n",
    "plt.xlabel('episode number')\n",
    "plt.ylabel('reward')\n",
    "plt.show()"
   ]
  },
  {
   "cell_type": "code",
   "execution_count": null,
   "metadata": {},
   "outputs": [],
   "source": []
  }
 ],
 "metadata": {
  "kernelspec": {
   "display_name": "Python 3",
   "language": "python",
   "name": "python3"
  },
  "language_info": {
   "codemirror_mode": {
    "name": "ipython",
    "version": 3
   },
   "file_extension": ".py",
   "mimetype": "text/x-python",
   "name": "python",
   "nbconvert_exporter": "python",
   "pygments_lexer": "ipython3",
   "version": "3.6.9"
  }
 },
 "nbformat": 4,
 "nbformat_minor": 4
}
